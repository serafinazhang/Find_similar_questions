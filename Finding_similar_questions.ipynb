{
  "nbformat": 4,
  "nbformat_minor": 0,
  "metadata": {
    "colab": {
      "name": " Finding similar questions.ipynb",
      "provenance": [],
      "authorship_tag": "ABX9TyP5o9hhaghtTPc6IbdEtGPy",
      "include_colab_link": true
    },
    "kernelspec": {
      "name": "python3",
      "display_name": "Python 3"
    },
    "language_info": {
      "name": "python"
    }
  },
  "cells": [
    {
      "cell_type": "markdown",
      "metadata": {
        "id": "view-in-github",
        "colab_type": "text"
      },
      "source": [
        "<a href=\"https://colab.research.google.com/github/serafinazhang/Find_similar_questions/blob/main/Finding_similar_questions.ipynb\" target=\"_parent\"><img src=\"https://colab.research.google.com/assets/colab-badge.svg\" alt=\"Open In Colab\"/></a>"
      ]
    },
    {
      "cell_type": "markdown",
      "source": [
        "# **Finding Similar Questions**\n",
        "Junqian Zhang"
      ],
      "metadata": {
        "id": "w-DgQR_0XN_M"
      }
    },
    {
      "cell_type": "code",
      "source": [
        "import pandas as pd\n",
        "import numpy as np\n",
        "from sklearn.feature_extraction.text import CountVectorizer"
      ],
      "metadata": {
        "id": "HN95aaHY-KaW"
      },
      "execution_count": null,
      "outputs": []
    },
    {
      "cell_type": "code",
      "source": [
        "!pip install pyspark\n",
        "import pyspark\n",
        "from pyspark import SparkConf, SparkContext\n",
        "from pyspark.sql import SparkSession\n",
        "from pyspark.sql.functions import isnan, when, count, col, countDistinct, udf, lower, regexp_replace, size\n",
        "from pyspark.ml.feature import Tokenizer, StopWordsRemover, HashingTF, MinHashLSH, RegexTokenizer\n",
        "from pyspark.sql.types import *\n",
        "import time"
      ],
      "metadata": {
        "colab": {
          "base_uri": "https://localhost:8080/"
        },
        "id": "gY5mlFqG-Sba",
        "outputId": "4695aff2-a01b-4093-cba2-d1b5569d0257"
      },
      "execution_count": null,
      "outputs": [
        {
          "output_type": "stream",
          "name": "stdout",
          "text": [
            "Requirement already satisfied: pyspark in /usr/local/lib/python3.7/dist-packages (3.2.0)\n",
            "Requirement already satisfied: py4j==0.10.9.2 in /usr/local/lib/python3.7/dist-packages (from pyspark) (0.10.9.2)\n"
          ]
        }
      ]
    },
    {
      "cell_type": "code",
      "source": [
        "! pip install pandasql"
      ],
      "metadata": {
        "colab": {
          "base_uri": "https://localhost:8080/"
        },
        "outputId": "86bcc951-7b15-4077-adeb-52087e13e2ab",
        "id": "o5rOqNAxiBIh"
      },
      "execution_count": null,
      "outputs": [
        {
          "output_type": "stream",
          "name": "stdout",
          "text": [
            "Requirement already satisfied: pandasql in /usr/local/lib/python3.7/dist-packages (0.7.3)\n",
            "Requirement already satisfied: pandas in /usr/local/lib/python3.7/dist-packages (from pandasql) (1.1.5)\n",
            "Requirement already satisfied: numpy in /usr/local/lib/python3.7/dist-packages (from pandasql) (1.19.5)\n",
            "Requirement already satisfied: sqlalchemy in /usr/local/lib/python3.7/dist-packages (from pandasql) (1.4.29)\n",
            "Requirement already satisfied: python-dateutil>=2.7.3 in /usr/local/lib/python3.7/dist-packages (from pandas->pandasql) (2.8.2)\n",
            "Requirement already satisfied: pytz>=2017.2 in /usr/local/lib/python3.7/dist-packages (from pandas->pandasql) (2018.9)\n",
            "Requirement already satisfied: six>=1.5 in /usr/local/lib/python3.7/dist-packages (from python-dateutil>=2.7.3->pandas->pandasql) (1.15.0)\n",
            "Requirement already satisfied: importlib-metadata in /usr/local/lib/python3.7/dist-packages (from sqlalchemy->pandasql) (4.10.0)\n",
            "Requirement already satisfied: greenlet!=0.4.17 in /usr/local/lib/python3.7/dist-packages (from sqlalchemy->pandasql) (1.1.2)\n",
            "Requirement already satisfied: zipp>=0.5 in /usr/local/lib/python3.7/dist-packages (from importlib-metadata->sqlalchemy->pandasql) (3.7.0)\n",
            "Requirement already satisfied: typing-extensions>=3.6.4 in /usr/local/lib/python3.7/dist-packages (from importlib-metadata->sqlalchemy->pandasql) (3.10.0.2)\n"
          ]
        }
      ]
    },
    {
      "cell_type": "code",
      "source": [
        "from pandasql import sqldf\n",
        "pysqldf = lambda q: sqldf(q, glob als())"
      ],
      "metadata": {
        "id": "_qP_Oy5KiBIr"
      },
      "execution_count": null,
      "outputs": []
    },
    {
      "cell_type": "code",
      "metadata": {
        "id": "1fFugnfAWPUp"
      },
      "source": [
        "from google.colab import files"
      ],
      "execution_count": null,
      "outputs": []
    },
    {
      "cell_type": "markdown",
      "source": [
        "# 1. Spark Environment Setup"
      ],
      "metadata": {
        "id": "WKMBr3UFCch0"
      }
    },
    {
      "cell_type": "code",
      "source": [
        "# install java\n",
        "!apt-get install openjdk-8-jdk-headless -qq > /dev/null\n",
        "\n",
        "# install spark (change the version number if needed)\n",
        "!wget -q http://www-eu.apache.org/dist/spark/spark-3.2.0/spark-3.2.0-bin-hadoop2.7.tgz\n",
        "\n",
        "# unzip the spark file to the current folder\n",
        "!tar xf spark-3.2.0-bin-hadoop2.7.tgz\n",
        "\n",
        "!rm spark-3.2.0-bin-hadoop2.7.tgz\n",
        "\n",
        "!pip install -q findspark\n",
        "\n",
        "# set your spark folder to your system path environment. \n",
        "import os\n",
        "os.environ[\"JAVA_HOME\"] = \"/usr/lib/jvm/java-8-openjdk-amd64\"\n",
        "os.environ[\"SPARK_HOME\"] = \"/content/spark-3.2.0-bin-hadoop2.7\""
      ],
      "metadata": {
        "id": "doRV6f9zQctp"
      },
      "execution_count": null,
      "outputs": []
    },
    {
      "cell_type": "code",
      "source": [
        "import findspark\n",
        "findspark.init()"
      ],
      "metadata": {
        "id": "FasRUEGpStSI"
      },
      "execution_count": null,
      "outputs": []
    },
    {
      "cell_type": "code",
      "source": [
        "#SparkSession initialization\n",
        "conf = SparkConf().setAppName(\"similar_questions\")\n",
        "spark = SparkSession.builder.enableHiveSupport().config(conf = conf).getOrCreate()\n",
        "sc = spark.sparkContext\n",
        "type(sc)"
      ],
      "metadata": {
        "colab": {
          "base_uri": "https://localhost:8080/"
        },
        "id": "eqRVj15DRzX4",
        "outputId": "03f6d44b-8823-493c-c9a1-fabc0282e915"
      },
      "execution_count": null,
      "outputs": [
        {
          "output_type": "execute_result",
          "data": {
            "text/plain": [
              "pyspark.context.SparkContext"
            ]
          },
          "metadata": {},
          "execution_count": 6
        }
      ]
    },
    {
      "cell_type": "markdown",
      "source": [
        "# 2. Data Loading"
      ],
      "metadata": {
        "id": "GzKy5gDvUvuX"
      }
    },
    {
      "cell_type": "code",
      "metadata": {
        "id": "oVFiy-HiCoI_",
        "colab": {
          "resources": {
            "http://localhost:8080/nbextensions/google.colab/files.js": {
              "data": "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",
              "ok": true,
              "headers": [
                [
                  "content-type",
                  "application/javascript"
                ]
              ],
              "status": 200,
              "status_text": ""
            }
          },
          "base_uri": "https://localhost:8080/",
          "height": 59
        },
        "outputId": "edf971f4-ae15-4c5b-f38e-fc4bfdcf57ee"
      },
      "source": [
        "uploaded = files.upload()"
      ],
      "execution_count": null,
      "outputs": [
        {
          "output_type": "display_data",
          "data": {
            "text/html": [
              "\n",
              "     <input type=\"file\" id=\"files-7944c2a8-1efc-4b40-af3d-f68722d96cb4\" name=\"files[]\" multiple disabled\n",
              "        style=\"border:none\" />\n",
              "     <output id=\"result-7944c2a8-1efc-4b40-af3d-f68722d96cb4\">\n",
              "      Upload widget is only available when the cell has been executed in the\n",
              "      current browser session. Please rerun this cell to enable.\n",
              "      </output>\n",
              "      <script src=\"/nbextensions/google.colab/files.js\"></script> "
            ],
            "text/plain": [
              "<IPython.core.display.HTML object>"
            ]
          },
          "metadata": {}
        },
        {
          "output_type": "stream",
          "name": "stdout",
          "text": [
            "Saving kaggle.json to kaggle (1).json\n"
          ]
        }
      ]
    },
    {
      "cell_type": "code",
      "metadata": {
        "id": "1flEsXLPCoMN",
        "colab": {
          "base_uri": "https://localhost:8080/"
        },
        "outputId": "663ff8c1-2997-44b1-f443-ad45d6233a72"
      },
      "source": [
        "! mkdir ~/.kaggle\n",
        "! cp kaggle.json ~/.kaggle/\n",
        "! chmod 600 ~/.kaggle/kaggle.json\n",
        "! kaggle datasets download -d stackoverflow/stacksample"
      ],
      "execution_count": null,
      "outputs": [
        {
          "output_type": "stream",
          "name": "stdout",
          "text": [
            "mkdir: cannot create directory ‘/root/.kaggle’: File exists\n",
            "Downloading stacksample.zip to /content\n",
            "100% 1.11G/1.11G [00:09<00:00, 126MB/s]\n",
            "100% 1.11G/1.11G [00:09<00:00, 119MB/s]\n"
          ]
        }
      ]
    },
    {
      "cell_type": "code",
      "source": [
        "from zipfile import ZipFile\n",
        "with ZipFile(\"stacksample.zip\", 'r') as zip:\n",
        "  zip.printdir()\n",
        "  zip.extract(\"Questions.csv\")\n",
        "! rm stacksample.zip"
      ],
      "metadata": {
        "colab": {
          "base_uri": "https://localhost:8080/"
        },
        "id": "NPKKyrjsY7uo",
        "outputId": "bca02126-1b3d-49b4-dbbf-5b68b20e89fa"
      },
      "execution_count": null,
      "outputs": [
        {
          "output_type": "stream",
          "name": "stdout",
          "text": [
            "File Name                                             Modified             Size\n",
            "Answers.csv                                    2019-10-08 00:40:36   1607914819\n",
            "Questions.csv                                  2019-10-08 00:43:12   1923682009\n",
            "Tags.csv                                       2019-10-08 00:46:14     65475836\n"
          ]
        }
      ]
    },
    {
      "cell_type": "code",
      "source": [
        "df = spark.read\\\n",
        "  .option(\"multiLine\", \"true\")\\\n",
        "  .option(\"header\", \"true\")\\\n",
        "  .option(\"escape\", \"\\\"\")\\\n",
        "  .csv(\"Questions.csv\")\\\n",
        "  .select(\"Id\", \"Body\")\n",
        "\n",
        "df.printSchema()\n",
        "df.show(10)"
      ],
      "metadata": {
        "colab": {
          "base_uri": "https://localhost:8080/"
        },
        "id": "wzDBLXPjc0aS",
        "outputId": "963c1d2f-dd95-4c82-b07a-8b5265cc520d"
      },
      "execution_count": null,
      "outputs": [
        {
          "output_type": "stream",
          "name": "stdout",
          "text": [
            "root\n",
            " |-- Id: string (nullable = true)\n",
            " |-- Body: string (nullable = true)\n",
            "\n",
            "+---+--------------------+\n",
            "| Id|                Body|\n",
            "+---+--------------------+\n",
            "| 80|<p>I've written a...|\n",
            "| 90|<p>Are there any ...|\n",
            "|120|<p>Has anyone got...|\n",
            "|180|<p>This is someth...|\n",
            "|260|<p>I have a littl...|\n",
            "|330|<p>I am working o...|\n",
            "|470|<p>I've been writ...|\n",
            "|580|<p>I wonder how y...|\n",
            "|650|<p>I would like t...|\n",
            "|810|<p>I'm trying to ...|\n",
            "+---+--------------------+\n",
            "only showing top 10 rows\n",
            "\n"
          ]
        }
      ]
    },
    {
      "cell_type": "code",
      "source": [
        "df.count()"
      ],
      "metadata": {
        "colab": {
          "base_uri": "https://localhost:8080/"
        },
        "id": "pe6aP20yVl3O",
        "outputId": "300ee102-548b-45b8-be23-ee0ea0087cca"
      },
      "execution_count": null,
      "outputs": [
        {
          "output_type": "execute_result",
          "data": {
            "text/plain": [
              "1264216"
            ]
          },
          "metadata": {},
          "execution_count": 11
        }
      ]
    },
    {
      "cell_type": "code",
      "source": [
        "df.printSchema()"
      ],
      "metadata": {
        "colab": {
          "base_uri": "https://localhost:8080/"
        },
        "id": "lag9ReGAY-d3",
        "outputId": "0d4f7d48-e0fb-4671-930c-1692b5c53985"
      },
      "execution_count": null,
      "outputs": [
        {
          "output_type": "stream",
          "name": "stdout",
          "text": [
            "root\n",
            " |-- Id: string (nullable = true)\n",
            " |-- Body: string (nullable = true)\n",
            "\n"
          ]
        }
      ]
    },
    {
      "cell_type": "markdown",
      "source": [
        "# 3. Data Cleaning"
      ],
      "metadata": {
        "id": "zmz4jzXiWx65"
      }
    },
    {
      "cell_type": "code",
      "source": [
        "# check missing values\n",
        "df.select([count(when(isnan(c), c)).alias(c) for c in df.columns]).show()"
      ],
      "metadata": {
        "colab": {
          "base_uri": "https://localhost:8080/"
        },
        "id": "9xa97Gr_XAmv",
        "outputId": "084054ef-aad8-4cdf-d024-34e5f50788b6"
      },
      "execution_count": null,
      "outputs": [
        {
          "output_type": "stream",
          "name": "stdout",
          "text": [
            "+---+----+\n",
            "| Id|Body|\n",
            "+---+----+\n",
            "|  0|   0|\n",
            "+---+----+\n",
            "\n"
          ]
        }
      ]
    },
    {
      "cell_type": "code",
      "source": [
        "def clean_text(x):\n",
        "  x = regexp_replace(x, '<.*?>', '')\n",
        "  x = regexp_replace(x, '\\n|\\r', '')\n",
        "  x = regexp_replace(x, '[^a-zA-Z\\\\s]', ' ')\n",
        "  return x\n",
        "\n",
        "df_clean = df.select('Id', clean_text(col(\"Body\")).alias(\"Body\"))"
      ],
      "metadata": {
        "id": "eFDAvCWPc0Iy"
      },
      "execution_count": null,
      "outputs": []
    },
    {
      "cell_type": "code",
      "source": [
        "tokenizer = Tokenizer().setInputCol(\"Body\").setOutputCol(\"Tokens\")\n",
        "df_token = tokenizer.transform(df_clean)"
      ],
      "metadata": {
        "id": "RFopbeRYybbE"
      },
      "execution_count": null,
      "outputs": []
    },
    {
      "cell_type": "code",
      "source": [
        "swr = StopWordsRemover(inputCol = 'Tokens', outputCol = 'No_Stopwords')\n",
        "df_swr = swr.transform(df_token)\n",
        "df_swr.show(5)"
      ],
      "metadata": {
        "colab": {
          "base_uri": "https://localhost:8080/"
        },
        "id": "Ul_-IlGLWkv_",
        "outputId": "458da756-1c05-4866-e4ad-a9ee91a6d5a4"
      },
      "execution_count": null,
      "outputs": [
        {
          "output_type": "stream",
          "name": "stdout",
          "text": [
            "+---+--------------------+--------------------+--------------------+\n",
            "| Id|                Body|              Tokens|        No_Stopwords|\n",
            "+---+--------------------+--------------------+--------------------+\n",
            "| 80|I ve written a da...|[i, ve, written, ...|[ve, written, dat...|\n",
            "| 90|Are there any rea...|[are, there, any,...|[really, good, tu...|\n",
            "|120|Has anyone got ex...|[has, anyone, got...|[anyone, got, exp...|\n",
            "|180|This is something...|[this, is, someth...|[something, ve, p...|\n",
            "|260|I have a little g...|[i, have, a, litt...|[little, game, wr...|\n",
            "+---+--------------------+--------------------+--------------------+\n",
            "only showing top 5 rows\n",
            "\n"
          ]
        }
      ]
    },
    {
      "cell_type": "code",
      "source": [
        "import pyspark.sql.functions as F\n",
        "df_nd = df_swr.withColumn(\"No_Duplicates\", F.array_distinct(\"No_Stopwords\"))\n",
        "df_nd.show(5)"
      ],
      "metadata": {
        "id": "7JFgXgzSx8rR",
        "colab": {
          "base_uri": "https://localhost:8080/"
        },
        "outputId": "ba060a44-bc75-4cfd-d8c1-a4379d5f8cb9"
      },
      "execution_count": null,
      "outputs": [
        {
          "output_type": "stream",
          "name": "stdout",
          "text": [
            "+---+--------------------+--------------------+--------------------+--------------------+\n",
            "| Id|                Body|              Tokens|        No_Stopwords|       No_Duplicates|\n",
            "+---+--------------------+--------------------+--------------------+--------------------+\n",
            "| 80|I ve written a da...|[i, ve, written, ...|[ve, written, dat...|[ve, written, dat...|\n",
            "| 90|Are there any rea...|[are, there, any,...|[really, good, tu...|[really, good, tu...|\n",
            "|120|Has anyone got ex...|[has, anyone, got...|[anyone, got, exp...|[anyone, got, exp...|\n",
            "|180|This is something...|[this, is, someth...|[something, ve, p...|[something, ve, p...|\n",
            "|260|I have a little g...|[i, have, a, litt...|[little, game, wr...|[little, game, wr...|\n",
            "+---+--------------------+--------------------+--------------------+--------------------+\n",
            "only showing top 5 rows\n",
            "\n"
          ]
        }
      ]
    },
    {
      "cell_type": "code",
      "source": [
        "df_nd.count()"
      ],
      "metadata": {
        "colab": {
          "base_uri": "https://localhost:8080/"
        },
        "id": "iEEb7EI_yvBc",
        "outputId": "f9998ff0-45ef-45d1-f3b5-29adbd7cecae"
      },
      "execution_count": null,
      "outputs": [
        {
          "output_type": "execute_result",
          "data": {
            "text/plain": [
              "1264216"
            ]
          },
          "metadata": {},
          "execution_count": 16
        }
      ]
    },
    {
      "cell_type": "markdown",
      "source": [
        "# 4. Locality Sensitive Hashing"
      ],
      "metadata": {
        "id": "T9gBOlfrhzOP"
      }
    },
    {
      "cell_type": "code",
      "source": [
        "question = df_nd.select('Id', 'No_Duplicates')"
      ],
      "metadata": {
        "id": "G-0CAj-EhyER"
      },
      "execution_count": null,
      "outputs": []
    },
    {
      "cell_type": "code",
      "source": [
        "ss = 2000\n",
        "sample_size = []\n",
        "for i in range(11):\n",
        "  sample_size.append(ss)\n",
        "  ss = ss + 2000"
      ],
      "metadata": {
        "id": "_cQK9PU4CNR4"
      },
      "execution_count": null,
      "outputs": []
    },
    {
      "cell_type": "code",
      "source": [
        "sample_size"
      ],
      "metadata": {
        "colab": {
          "base_uri": "https://localhost:8080/"
        },
        "id": "VHCd9aCADGWu",
        "outputId": "fc06b790-f30d-4afd-e40b-7b40737729a6"
      },
      "execution_count": null,
      "outputs": [
        {
          "output_type": "execute_result",
          "data": {
            "text/plain": [
              "[2000, 4000, 6000, 8000, 10000, 12000, 14000, 16000, 18000, 20000, 22000]"
            ]
          },
          "metadata": {},
          "execution_count": 19
        }
      ]
    },
    {
      "cell_type": "code",
      "source": [
        "computation_time = []\n",
        "for s in sample_size:\n",
        "  start = time.time()\n",
        "  print('Sample Size: ' + str(s))\n",
        "\n",
        "  question_p = question.limit(s) \n",
        "  \n",
        "  # Feature extraction\n",
        "  hashingTF = HashingTF(inputCol=\"No_Duplicates\", outputCol=\"Features\", numFeatures=1024)\n",
        "  featurizedData = hashingTF.transform(question_p)\n",
        "\n",
        "  # MinHash for Jaccard distance\n",
        "  mh = MinHashLSH(inputCol=\"Features\", outputCol=\"hashes\")\n",
        "  model = mh.fit(featurizedData)\n",
        "  hash = model.transform(featurizedData)\n",
        "\n",
        "  # Compute the locality sensitive hashes for the input rows and perform approximate similarity join\n",
        "  match = model.approxSimilarityJoin(hash, hash, 0.5, distCol=\"JaccardDistance\")\\\n",
        "              .select(col(\"datasetA.id\").alias(\"idA\"),\n",
        "                      col(\"datasetB.id\").alias(\"idB\"),\n",
        "                      col(\"JaccardDistance\")).filter('idA < idB')\n",
        "  match.sort(match.JaccardDistance.asc()).show(10)\n",
        "\n",
        "  end = time.time()\n",
        "\n",
        "  t = round(end-start, 2)\n",
        "  computation_time.append(t)\n",
        "  print(\"Computation Time: {} seconds\".format(t))\n",
        "  print(\"=======================================\")"
      ],
      "metadata": {
        "colab": {
          "base_uri": "https://localhost:8080/"
        },
        "id": "nY0CH5-5DQEm",
        "outputId": "2579b24d-d4c4-4e98-bb78-bcfdedadc9d6"
      },
      "execution_count": null,
      "outputs": [
        {
          "output_type": "stream",
          "name": "stdout",
          "text": [
            "Sample Size: 2000\n"
          ]
        },
        {
          "output_type": "stream",
          "name": "stderr",
          "text": [
            "/usr/local/lib/python3.7/dist-packages/pyspark/sql/context.py:127: FutureWarning: Deprecated in 3.0.0. Use SparkSession.builder.getOrCreate() instead.\n",
            "  FutureWarning\n"
          ]
        },
        {
          "output_type": "stream",
          "name": "stdout",
          "text": [
            "+---+---+---------------+\n",
            "|idA|idB|JaccardDistance|\n",
            "+---+---+---------------+\n",
            "+---+---+---------------+\n",
            "\n",
            "Computation Time: 10.13 seconds\n",
            "=======================================\n",
            "Sample Size: 4000\n",
            "+---+---+---------------+\n",
            "|idA|idB|JaccardDistance|\n",
            "+---+---+---------------+\n",
            "+---+---+---------------+\n",
            "\n",
            "Computation Time: 8.84 seconds\n",
            "=======================================\n",
            "Sample Size: 6000\n",
            "+---+---+---------------+\n",
            "|idA|idB|JaccardDistance|\n",
            "+---+---+---------------+\n",
            "+---+---+---------------+\n",
            "\n",
            "Computation Time: 15.32 seconds\n",
            "=======================================\n",
            "Sample Size: 8000\n",
            "+------+------+------------------+\n",
            "|   idA|   idB|   JaccardDistance|\n",
            "+------+------+------------------+\n",
            "|446500|446600|0.4666666666666667|\n",
            "+------+------+------------------+\n",
            "\n",
            "Computation Time: 21.95 seconds\n",
            "=======================================\n",
            "Sample Size: 10000\n",
            "+------+------+------------------+\n",
            "|   idA|   idB|   JaccardDistance|\n",
            "+------+------+------------------+\n",
            "|446500|446600|0.4666666666666667|\n",
            "+------+------+------------------+\n",
            "\n",
            "Computation Time: 30.19 seconds\n",
            "=======================================\n",
            "Sample Size: 12000\n",
            "+------+------+------------------+\n",
            "|   idA|   idB|   JaccardDistance|\n",
            "+------+------+------------------+\n",
            "|446500|446600|0.4666666666666667|\n",
            "+------+------+------------------+\n",
            "\n",
            "Computation Time: 41.15 seconds\n",
            "=======================================\n",
            "Sample Size: 14000\n",
            "+------+------+------------------+\n",
            "|   idA|   idB|   JaccardDistance|\n",
            "+------+------+------------------+\n",
            "|446500|446600|0.4666666666666667|\n",
            "+------+------+------------------+\n",
            "\n",
            "Computation Time: 52.71 seconds\n",
            "=======================================\n",
            "Sample Size: 16000\n",
            "+------+------+------------------+\n",
            "|   idA|   idB|   JaccardDistance|\n",
            "+------+------+------------------+\n",
            "|446500|446600|0.4666666666666667|\n",
            "+------+------+------------------+\n",
            "\n",
            "Computation Time: 68.63 seconds\n",
            "=======================================\n",
            "Sample Size: 18000\n",
            "+------+------+------------------+\n",
            "|   idA|   idB|   JaccardDistance|\n",
            "+------+------+------------------+\n",
            "|950210|950960|          0.453125|\n",
            "|446500|446600|0.4666666666666667|\n",
            "+------+------+------------------+\n",
            "\n",
            "Computation Time: 85.9 seconds\n",
            "=======================================\n",
            "Sample Size: 20000\n",
            "+-------+-------+-------------------+\n",
            "|    idA|    idB|    JaccardDistance|\n",
            "+-------+-------+-------------------+\n",
            "|1041520|1042370|0.32558139534883723|\n",
            "| 950210| 950960|           0.453125|\n",
            "| 446500| 446600| 0.4666666666666667|\n",
            "|1063190| 711820| 0.4878048780487805|\n",
            "+-------+-------+-------------------+\n",
            "\n",
            "Computation Time: 102.0 seconds\n",
            "=======================================\n",
            "Sample Size: 22000\n",
            "+-------+-------+-------------------+\n",
            "|    idA|    idB|    JaccardDistance|\n",
            "+-------+-------+-------------------+\n",
            "|1041520|1042370|0.32558139534883723|\n",
            "| 950210| 950960|           0.453125|\n",
            "| 446500| 446600| 0.4666666666666667|\n",
            "|1063190| 711820| 0.4878048780487805|\n",
            "+-------+-------+-------------------+\n",
            "\n",
            "Computation Time: 119.07 seconds\n",
            "=======================================\n"
          ]
        }
      ]
    },
    {
      "cell_type": "code",
      "source": [
        "ss = 24000\n",
        "sample_size1 = []\n",
        "for i in range(11):\n",
        "  sample_size1.append(ss)\n",
        "  ss = ss + 2000"
      ],
      "metadata": {
        "id": "R6JW3P5OUXZN"
      },
      "execution_count": null,
      "outputs": []
    },
    {
      "cell_type": "code",
      "source": [
        "computation_time1 = []\n",
        "for s in sample_size1:\n",
        "  start = time.time()\n",
        "  print('Sample Size: ' + str(s))\n",
        "\n",
        "  question_p = question.limit(s) \n",
        "  \n",
        "  # Feature extraction\n",
        "  hashingTF = HashingTF(inputCol=\"No_Duplicates\", outputCol=\"Features\", numFeatures=1024)\n",
        "  featurizedData = hashingTF.transform(question_p)\n",
        "\n",
        "  # MinHash for Jaccard distance\n",
        "  mh = MinHashLSH(inputCol=\"Features\", outputCol=\"hashes\")\n",
        "  model = mh.fit(featurizedData)\n",
        "  hash = model.transform(featurizedData)\n",
        "\n",
        "  # Compute the locality sensitive hashes for the input rows and perform approximate similarity join\n",
        "  match = model.approxSimilarityJoin(hash, hash, 0.5, distCol=\"JaccardDistance\")\\\n",
        "              .select(col(\"datasetA.id\").alias(\"idA\"),\n",
        "                      col(\"datasetB.id\").alias(\"idB\"),\n",
        "                      col(\"JaccardDistance\")).filter('idA < idB')\n",
        "  match.sort(match.JaccardDistance.asc()).show(10)\n",
        "\n",
        "  end = time.time()\n",
        "\n",
        "  t = round(end-start, 2)\n",
        "  computation_time1.append(t)\n",
        "  print(\"Computation Time: {} seconds\".format(t))\n",
        "  print(\"=======================================\")"
      ],
      "metadata": {
        "colab": {
          "base_uri": "https://localhost:8080/"
        },
        "id": "8xKnW8XKUehf",
        "outputId": "13e19965-ac0d-4a9e-b0de-2c2d6b3f9627"
      },
      "execution_count": null,
      "outputs": [
        {
          "output_type": "stream",
          "name": "stdout",
          "text": [
            "Sample Size: 24000\n"
          ]
        },
        {
          "output_type": "stream",
          "name": "stderr",
          "text": [
            "/usr/local/lib/python3.7/dist-packages/pyspark/sql/context.py:127: FutureWarning: Deprecated in 3.0.0. Use SparkSession.builder.getOrCreate() instead.\n",
            "  FutureWarning\n"
          ]
        },
        {
          "output_type": "stream",
          "name": "stdout",
          "text": [
            "+-------+-------+-------------------+\n",
            "|    idA|    idB|    JaccardDistance|\n",
            "+-------+-------+-------------------+\n",
            "|1041520|1042370|0.32558139534883723|\n",
            "| 950210| 950960|           0.453125|\n",
            "| 446500| 446600| 0.4666666666666667|\n",
            "|1063190| 711820| 0.4878048780487805|\n",
            "+-------+-------+-------------------+\n",
            "\n",
            "Computation Time: 143.22 seconds\n",
            "=======================================\n",
            "Sample Size: 26000\n",
            "+-------+-------+-------------------+\n",
            "|    idA|    idB|    JaccardDistance|\n",
            "+-------+-------+-------------------+\n",
            "|1041520|1042370|0.32558139534883723|\n",
            "| 950210| 950960|           0.453125|\n",
            "| 446500| 446600| 0.4666666666666667|\n",
            "|1063190| 711820| 0.4878048780487805|\n",
            "+-------+-------+-------------------+\n",
            "\n",
            "Computation Time: 161.32 seconds\n",
            "=======================================\n",
            "Sample Size: 28000\n",
            "+-------+-------+-------------------+\n",
            "|    idA|    idB|    JaccardDistance|\n",
            "+-------+-------+-------------------+\n",
            "|1041520|1042370|0.32558139534883723|\n",
            "| 950210| 950960|           0.453125|\n",
            "| 446500| 446600| 0.4666666666666667|\n",
            "|1063190| 711820| 0.4878048780487805|\n",
            "|1411730|1415520| 0.4957983193277311|\n",
            "+-------+-------+-------------------+\n",
            "\n",
            "Computation Time: 187.33 seconds\n",
            "=======================================\n",
            "Sample Size: 30000\n",
            "+-------+-------+-------------------+\n",
            "|    idA|    idB|    JaccardDistance|\n",
            "+-------+-------+-------------------+\n",
            "|1041520|1042370|0.32558139534883723|\n",
            "|1479100|  52550|0.33333333333333337|\n",
            "| 950210| 950960|           0.453125|\n",
            "| 446500| 446600| 0.4666666666666667|\n",
            "|1063190| 711820| 0.4878048780487805|\n",
            "|1411730|1415520| 0.4957983193277311|\n",
            "+-------+-------+-------------------+\n",
            "\n",
            "Computation Time: 209.76 seconds\n",
            "=======================================\n",
            "Sample Size: 32000\n",
            "+-------+-------+-------------------+\n",
            "|    idA|    idB|    JaccardDistance|\n",
            "+-------+-------+-------------------+\n",
            "|1041520|1042370|0.32558139534883723|\n",
            "|1479100|  52550|0.33333333333333337|\n",
            "| 950210| 950960|           0.453125|\n",
            "| 446500| 446600| 0.4666666666666667|\n",
            "|1063190| 711820| 0.4878048780487805|\n",
            "|1572150|1596960|0.49006622516556286|\n",
            "|1411730|1415520| 0.4957983193277311|\n",
            "+-------+-------+-------------------+\n",
            "\n",
            "Computation Time: 236.0 seconds\n",
            "=======================================\n",
            "Sample Size: 34000\n",
            "+-------+-------+-------------------+\n",
            "|    idA|    idB|    JaccardDistance|\n",
            "+-------+-------+-------------------+\n",
            "|1041520|1042370|0.32558139534883723|\n",
            "|1479100|  52550|0.33333333333333337|\n",
            "| 950210| 950960|           0.453125|\n",
            "|1709070| 777910|0.45945945945945943|\n",
            "| 446500| 446600| 0.4666666666666667|\n",
            "|1709070| 272270| 0.4675324675324676|\n",
            "|1063190| 711820| 0.4878048780487805|\n",
            "|1572150|1596960|0.49006622516556286|\n",
            "|1411730|1415520| 0.4957983193277311|\n",
            "+-------+-------+-------------------+\n",
            "\n",
            "Computation Time: 269.23 seconds\n",
            "=======================================\n",
            "Sample Size: 36000\n",
            "+-------+-------+-------------------+\n",
            "|    idA|    idB|    JaccardDistance|\n",
            "+-------+-------+-------------------+\n",
            "|1041520|1042370|0.32558139534883723|\n",
            "|1479100|  52550|0.33333333333333337|\n",
            "| 950210| 950960|           0.453125|\n",
            "|1709070| 777910|0.45945945945945943|\n",
            "| 446500| 446600| 0.4666666666666667|\n",
            "|1709070| 272270| 0.4675324675324676|\n",
            "|1063190| 711820| 0.4878048780487805|\n",
            "|1572150|1596960|0.49006622516556286|\n",
            "|1411730|1415520| 0.4957983193277311|\n",
            "|1591130|1752440|0.49629629629629635|\n",
            "+-------+-------+-------------------+\n",
            "\n",
            "Computation Time: 299.59 seconds\n",
            "=======================================\n",
            "Sample Size: 38000\n",
            "+-------+-------+-------------------+\n",
            "|    idA|    idB|    JaccardDistance|\n",
            "+-------+-------+-------------------+\n",
            "|1041520|1042370|0.32558139534883723|\n",
            "|1479100|  52550|0.33333333333333337|\n",
            "| 950210| 950960|           0.453125|\n",
            "|1709070| 777910|0.45945945945945943|\n",
            "| 446500| 446600| 0.4666666666666667|\n",
            "|1709070| 272270| 0.4675324675324676|\n",
            "|1063190| 711820| 0.4878048780487805|\n",
            "|1572150|1596960|0.49006622516556286|\n",
            "|1411730|1415520| 0.4957983193277311|\n",
            "|1591130|1752440|0.49629629629629635|\n",
            "+-------+-------+-------------------+\n",
            "\n",
            "Computation Time: 332.19 seconds\n",
            "=======================================\n",
            "Sample Size: 40000\n",
            "+-------+-------+-------------------+\n",
            "|    idA|    idB|    JaccardDistance|\n",
            "+-------+-------+-------------------+\n",
            "|1041520|1042370|0.32558139534883723|\n",
            "|1479100|  52550|0.33333333333333337|\n",
            "|1951090| 218650| 0.4285714285714286|\n",
            "| 950210| 950960|           0.453125|\n",
            "|1709070| 777910|0.45945945945945943|\n",
            "| 446500| 446600| 0.4666666666666667|\n",
            "|1709070| 272270| 0.4675324675324676|\n",
            "|1063190| 711820| 0.4878048780487805|\n",
            "|1572150|1596960|0.49006622516556286|\n",
            "|1411730|1415520| 0.4957983193277311|\n",
            "+-------+-------+-------------------+\n",
            "only showing top 10 rows\n",
            "\n",
            "Computation Time: 358.62 seconds\n",
            "=======================================\n",
            "Sample Size: 42000\n",
            "+-------+-------+-------------------+\n",
            "|    idA|    idB|    JaccardDistance|\n",
            "+-------+-------+-------------------+\n",
            "|1041520|1042370|0.32558139534883723|\n",
            "|1479100|  52550|0.33333333333333337|\n",
            "|1951090| 218650| 0.4285714285714286|\n",
            "| 950210| 950960|           0.453125|\n",
            "|1709070| 777910|0.45945945945945943|\n",
            "| 446500| 446600| 0.4666666666666667|\n",
            "|1709070| 272270| 0.4675324675324676|\n",
            "|1063190| 711820| 0.4878048780487805|\n",
            "|1572150|1596960|0.49006622516556286|\n",
            "|1411730|1415520| 0.4957983193277311|\n",
            "+-------+-------+-------------------+\n",
            "only showing top 10 rows\n",
            "\n",
            "Computation Time: 400.39 seconds\n",
            "=======================================\n",
            "Sample Size: 44000\n",
            "+-------+-------+-------------------+\n",
            "|    idA|    idB|    JaccardDistance|\n",
            "+-------+-------+-------------------+\n",
            "|1041520|1042370|0.32558139534883723|\n",
            "|1479100|  52550|0.33333333333333337|\n",
            "|1182220|2062480|0.33333333333333337|\n",
            "|1951090| 218650| 0.4285714285714286|\n",
            "| 950210| 950960|           0.453125|\n",
            "|1709070| 777910|0.45945945945945943|\n",
            "| 446500| 446600| 0.4666666666666667|\n",
            "|1709070| 272270| 0.4675324675324676|\n",
            "|1063190| 711820| 0.4878048780487805|\n",
            "|1572150|1596960|0.49006622516556286|\n",
            "+-------+-------+-------------------+\n",
            "only showing top 10 rows\n",
            "\n",
            "Computation Time: 437.55 seconds\n",
            "=======================================\n"
          ]
        }
      ]
    },
    {
      "cell_type": "code",
      "source": [
        "computation_time"
      ],
      "metadata": {
        "colab": {
          "base_uri": "https://localhost:8080/"
        },
        "id": "0ploGM0gqLPC",
        "outputId": "9b2882a4-0614-400c-b0dc-281581c29c88"
      },
      "execution_count": null,
      "outputs": [
        {
          "output_type": "execute_result",
          "data": {
            "text/plain": [
              "[10.13, 8.84, 15.32, 21.95, 30.19, 41.15, 52.71, 68.63, 85.9, 102.0, 119.07]"
            ]
          },
          "metadata": {},
          "execution_count": 23
        }
      ]
    },
    {
      "cell_type": "code",
      "source": [
        "computation_time1"
      ],
      "metadata": {
        "colab": {
          "base_uri": "https://localhost:8080/"
        },
        "id": "05azGl13qNVX",
        "outputId": "a8fe7ec6-47ee-47b0-a80e-3f6b509d8768"
      },
      "execution_count": null,
      "outputs": [
        {
          "output_type": "execute_result",
          "data": {
            "text/plain": [
              "[143.22,\n",
              " 161.32,\n",
              " 187.33,\n",
              " 209.76,\n",
              " 236.0,\n",
              " 269.23,\n",
              " 299.59,\n",
              " 332.19,\n",
              " 358.62,\n",
              " 400.39,\n",
              " 437.55]"
            ]
          },
          "metadata": {},
          "execution_count": 24
        }
      ]
    },
    {
      "cell_type": "code",
      "source": [
        "computation_time = [10.13, 8.84, 15.32, 21.95, 30.19, 41.15, 52.71, 68.63, 85.9, 102.0, 119.07]\n",
        "computation_time1 = [143.22, 161.32, 187.33, 209.76, 236.0, 269.23, 299.59, 332.19, 358.62, 400.39,437.55]"
      ],
      "metadata": {
        "id": "VBYzoJDaC461"
      },
      "execution_count": null,
      "outputs": []
    },
    {
      "cell_type": "code",
      "source": [
        "all_time = computation_time[:] + computation_time1[:]"
      ],
      "metadata": {
        "id": "-NHfmBJFmzNP"
      },
      "execution_count": null,
      "outputs": []
    },
    {
      "cell_type": "code",
      "source": [
        "all_sample = sample_size[:] + sample_size1[:]"
      ],
      "metadata": {
        "id": "rIDHQVNdnIKj"
      },
      "execution_count": null,
      "outputs": []
    },
    {
      "cell_type": "code",
      "source": [
        "summary = pd.DataFrame({\"Sample Size\": all_sample, \"Computation Time\": all_time})"
      ],
      "metadata": {
        "id": "f1jmkLdmm_OX"
      },
      "execution_count": null,
      "outputs": []
    },
    {
      "cell_type": "code",
      "source": [
        "summary"
      ],
      "metadata": {
        "colab": {
          "base_uri": "https://localhost:8080/",
          "height": 739
        },
        "id": "x21FIsARnSer",
        "outputId": "b5602339-149a-475e-f7a3-fefaa45e4617"
      },
      "execution_count": null,
      "outputs": [
        {
          "output_type": "execute_result",
          "data": {
            "text/html": [
              "\n",
              "  <div id=\"df-07d18dca-70b4-4ef5-a2c7-32d4e89bb02d\">\n",
              "    <div class=\"colab-df-container\">\n",
              "      <div>\n",
              "<style scoped>\n",
              "    .dataframe tbody tr th:only-of-type {\n",
              "        vertical-align: middle;\n",
              "    }\n",
              "\n",
              "    .dataframe tbody tr th {\n",
              "        vertical-align: top;\n",
              "    }\n",
              "\n",
              "    .dataframe thead th {\n",
              "        text-align: right;\n",
              "    }\n",
              "</style>\n",
              "<table border=\"1\" class=\"dataframe\">\n",
              "  <thead>\n",
              "    <tr style=\"text-align: right;\">\n",
              "      <th></th>\n",
              "      <th>Sample Size</th>\n",
              "      <th>Computation Time</th>\n",
              "    </tr>\n",
              "  </thead>\n",
              "  <tbody>\n",
              "    <tr>\n",
              "      <th>0</th>\n",
              "      <td>2000</td>\n",
              "      <td>10.13</td>\n",
              "    </tr>\n",
              "    <tr>\n",
              "      <th>1</th>\n",
              "      <td>4000</td>\n",
              "      <td>8.84</td>\n",
              "    </tr>\n",
              "    <tr>\n",
              "      <th>2</th>\n",
              "      <td>6000</td>\n",
              "      <td>15.32</td>\n",
              "    </tr>\n",
              "    <tr>\n",
              "      <th>3</th>\n",
              "      <td>8000</td>\n",
              "      <td>21.95</td>\n",
              "    </tr>\n",
              "    <tr>\n",
              "      <th>4</th>\n",
              "      <td>10000</td>\n",
              "      <td>30.19</td>\n",
              "    </tr>\n",
              "    <tr>\n",
              "      <th>5</th>\n",
              "      <td>12000</td>\n",
              "      <td>41.15</td>\n",
              "    </tr>\n",
              "    <tr>\n",
              "      <th>6</th>\n",
              "      <td>14000</td>\n",
              "      <td>52.71</td>\n",
              "    </tr>\n",
              "    <tr>\n",
              "      <th>7</th>\n",
              "      <td>16000</td>\n",
              "      <td>68.63</td>\n",
              "    </tr>\n",
              "    <tr>\n",
              "      <th>8</th>\n",
              "      <td>18000</td>\n",
              "      <td>85.90</td>\n",
              "    </tr>\n",
              "    <tr>\n",
              "      <th>9</th>\n",
              "      <td>20000</td>\n",
              "      <td>102.00</td>\n",
              "    </tr>\n",
              "    <tr>\n",
              "      <th>10</th>\n",
              "      <td>22000</td>\n",
              "      <td>119.07</td>\n",
              "    </tr>\n",
              "    <tr>\n",
              "      <th>11</th>\n",
              "      <td>24000</td>\n",
              "      <td>143.22</td>\n",
              "    </tr>\n",
              "    <tr>\n",
              "      <th>12</th>\n",
              "      <td>26000</td>\n",
              "      <td>161.32</td>\n",
              "    </tr>\n",
              "    <tr>\n",
              "      <th>13</th>\n",
              "      <td>28000</td>\n",
              "      <td>187.33</td>\n",
              "    </tr>\n",
              "    <tr>\n",
              "      <th>14</th>\n",
              "      <td>30000</td>\n",
              "      <td>209.76</td>\n",
              "    </tr>\n",
              "    <tr>\n",
              "      <th>15</th>\n",
              "      <td>32000</td>\n",
              "      <td>236.00</td>\n",
              "    </tr>\n",
              "    <tr>\n",
              "      <th>16</th>\n",
              "      <td>34000</td>\n",
              "      <td>269.23</td>\n",
              "    </tr>\n",
              "    <tr>\n",
              "      <th>17</th>\n",
              "      <td>36000</td>\n",
              "      <td>299.59</td>\n",
              "    </tr>\n",
              "    <tr>\n",
              "      <th>18</th>\n",
              "      <td>38000</td>\n",
              "      <td>332.19</td>\n",
              "    </tr>\n",
              "    <tr>\n",
              "      <th>19</th>\n",
              "      <td>40000</td>\n",
              "      <td>358.62</td>\n",
              "    </tr>\n",
              "    <tr>\n",
              "      <th>20</th>\n",
              "      <td>42000</td>\n",
              "      <td>400.39</td>\n",
              "    </tr>\n",
              "    <tr>\n",
              "      <th>21</th>\n",
              "      <td>44000</td>\n",
              "      <td>437.55</td>\n",
              "    </tr>\n",
              "  </tbody>\n",
              "</table>\n",
              "</div>\n",
              "      <button class=\"colab-df-convert\" onclick=\"convertToInteractive('df-07d18dca-70b4-4ef5-a2c7-32d4e89bb02d')\"\n",
              "              title=\"Convert this dataframe to an interactive table.\"\n",
              "              style=\"display:none;\">\n",
              "        \n",
              "  <svg xmlns=\"http://www.w3.org/2000/svg\" height=\"24px\"viewBox=\"0 0 24 24\"\n",
              "       width=\"24px\">\n",
              "    <path d=\"M0 0h24v24H0V0z\" fill=\"none\"/>\n",
              "    <path d=\"M18.56 5.44l.94 2.06.94-2.06 2.06-.94-2.06-.94-.94-2.06-.94 2.06-2.06.94zm-11 1L8.5 8.5l.94-2.06 2.06-.94-2.06-.94L8.5 2.5l-.94 2.06-2.06.94zm10 10l.94 2.06.94-2.06 2.06-.94-2.06-.94-.94-2.06-.94 2.06-2.06.94z\"/><path d=\"M17.41 7.96l-1.37-1.37c-.4-.4-.92-.59-1.43-.59-.52 0-1.04.2-1.43.59L10.3 9.45l-7.72 7.72c-.78.78-.78 2.05 0 2.83L4 21.41c.39.39.9.59 1.41.59.51 0 1.02-.2 1.41-.59l7.78-7.78 2.81-2.81c.8-.78.8-2.07 0-2.86zM5.41 20L4 18.59l7.72-7.72 1.47 1.35L5.41 20z\"/>\n",
              "  </svg>\n",
              "      </button>\n",
              "      \n",
              "  <style>\n",
              "    .colab-df-container {\n",
              "      display:flex;\n",
              "      flex-wrap:wrap;\n",
              "      gap: 12px;\n",
              "    }\n",
              "\n",
              "    .colab-df-convert {\n",
              "      background-color: #E8F0FE;\n",
              "      border: none;\n",
              "      border-radius: 50%;\n",
              "      cursor: pointer;\n",
              "      display: none;\n",
              "      fill: #1967D2;\n",
              "      height: 32px;\n",
              "      padding: 0 0 0 0;\n",
              "      width: 32px;\n",
              "    }\n",
              "\n",
              "    .colab-df-convert:hover {\n",
              "      background-color: #E2EBFA;\n",
              "      box-shadow: 0px 1px 2px rgba(60, 64, 67, 0.3), 0px 1px 3px 1px rgba(60, 64, 67, 0.15);\n",
              "      fill: #174EA6;\n",
              "    }\n",
              "\n",
              "    [theme=dark] .colab-df-convert {\n",
              "      background-color: #3B4455;\n",
              "      fill: #D2E3FC;\n",
              "    }\n",
              "\n",
              "    [theme=dark] .colab-df-convert:hover {\n",
              "      background-color: #434B5C;\n",
              "      box-shadow: 0px 1px 3px 1px rgba(0, 0, 0, 0.15);\n",
              "      filter: drop-shadow(0px 1px 2px rgba(0, 0, 0, 0.3));\n",
              "      fill: #FFFFFF;\n",
              "    }\n",
              "  </style>\n",
              "\n",
              "      <script>\n",
              "        const buttonEl =\n",
              "          document.querySelector('#df-07d18dca-70b4-4ef5-a2c7-32d4e89bb02d button.colab-df-convert');\n",
              "        buttonEl.style.display =\n",
              "          google.colab.kernel.accessAllowed ? 'block' : 'none';\n",
              "\n",
              "        async function convertToInteractive(key) {\n",
              "          const element = document.querySelector('#df-07d18dca-70b4-4ef5-a2c7-32d4e89bb02d');\n",
              "          const dataTable =\n",
              "            await google.colab.kernel.invokeFunction('convertToInteractive',\n",
              "                                                     [key], {});\n",
              "          if (!dataTable) return;\n",
              "\n",
              "          const docLinkHtml = 'Like what you see? Visit the ' +\n",
              "            '<a target=\"_blank\" href=https://colab.research.google.com/notebooks/data_table.ipynb>data table notebook</a>'\n",
              "            + ' to learn more about interactive tables.';\n",
              "          element.innerHTML = '';\n",
              "          dataTable['output_type'] = 'display_data';\n",
              "          await google.colab.output.renderOutput(dataTable, element);\n",
              "          const docLink = document.createElement('div');\n",
              "          docLink.innerHTML = docLinkHtml;\n",
              "          element.appendChild(docLink);\n",
              "        }\n",
              "      </script>\n",
              "    </div>\n",
              "  </div>\n",
              "  "
            ],
            "text/plain": [
              "    Sample Size  Computation Time\n",
              "0          2000             10.13\n",
              "1          4000              8.84\n",
              "2          6000             15.32\n",
              "3          8000             21.95\n",
              "4         10000             30.19\n",
              "5         12000             41.15\n",
              "6         14000             52.71\n",
              "7         16000             68.63\n",
              "8         18000             85.90\n",
              "9         20000            102.00\n",
              "10        22000            119.07\n",
              "11        24000            143.22\n",
              "12        26000            161.32\n",
              "13        28000            187.33\n",
              "14        30000            209.76\n",
              "15        32000            236.00\n",
              "16        34000            269.23\n",
              "17        36000            299.59\n",
              "18        38000            332.19\n",
              "19        40000            358.62\n",
              "20        42000            400.39\n",
              "21        44000            437.55"
            ]
          },
          "metadata": {},
          "execution_count": 81
        }
      ]
    },
    {
      "cell_type": "markdown",
      "source": [
        "# 5. Exhaustive Search"
      ],
      "metadata": {
        "id": "szO0yg4SnccO"
      }
    },
    {
      "cell_type": "code",
      "source": [
        "exact = question.limit(2000).toPandas()"
      ],
      "metadata": {
        "id": "dRW5qHpDr37i"
      },
      "execution_count": null,
      "outputs": []
    },
    {
      "cell_type": "code",
      "source": [
        "def jaccard_distance(x, y):\n",
        "    intersection = np.logical_and(x, y)\n",
        "    union = np.logical_or(x, y)\n",
        "    similarity = intersection.sum() / float(union.sum())\n",
        "    return 1-similarity"
      ],
      "metadata": {
        "id": "gBgVJuM9SG7s"
      },
      "execution_count": null,
      "outputs": []
    },
    {
      "cell_type": "code",
      "source": [
        "q = \"\"\"SELECT df1.id AS idA, df2.id AS idB\n",
        "FROM compare df1, compare df2 ON (idA < idB)\n",
        "\"\"\""
      ],
      "metadata": {
        "id": "b1rz3k9fogn_"
      },
      "execution_count": null,
      "outputs": []
    },
    {
      "cell_type": "code",
      "source": [
        "start = time.time()\n",
        "df = pd.DataFrame({\"text\":list(exact['No_Duplicates'])})\n",
        "df['text'] = df['text'].apply(lambda x: ' '.join([word for word in x]))\n",
        "df['text'] = df['text'].apply(lambda x: str(x))\n",
        "start = time.time()\n",
        "vectorizer = CountVectorizer(max_features = 1024)\n",
        "X = vectorizer.fit_transform(list(df['text']))\n",
        "tf_array = pd.DataFrame(X.T.toarray())\n",
        "feature = []\n",
        "for i in range(2000):\n",
        "  feature.append(list(tf_array[i]))\n",
        "compare = pd.DataFrame({\"id\": exact['Id']})\n",
        "compare2 = pd.DataFrame({\"id\": exact['Id'],'feature': feature})\n",
        "match = pysqldf(q)\n",
        "M = pd.merge(match, compare2, left_on='idA', right_on='id')\n",
        "M = pd.merge(M, compare2, left_on='idB', right_on='id')\n",
        "M = M.drop(['id_x', 'id_y'], axis = 1)\n",
        "jac_d = []\n",
        "for i in range(len(M)):\n",
        "  d = jaccard_distance(M['feature_x'][i], M['feature_y'][i])\n",
        "  jac_d.append(d)\n",
        "\n",
        "M['distance'] = jac_d\n",
        "\n",
        "end = time.time()"
      ],
      "metadata": {
        "id": "eBJfXNMTlsKB"
      },
      "execution_count": null,
      "outputs": []
    },
    {
      "cell_type": "code",
      "source": [
        "vectorizer.get_feature_names_out()"
      ],
      "metadata": {
        "colab": {
          "base_uri": "https://localhost:8080/"
        },
        "id": "6m6vniPVv4Mr",
        "outputId": "6cb4c2f7-6289-4578-93f8-c02d2ab076f3"
      },
      "execution_count": null,
      "outputs": [
        {
          "output_type": "execute_result",
          "data": {
            "text/plain": [
              "array(['able', 'accepted', 'access', ..., 'years', 'yes', 'yet'],\n",
              "      dtype=object)"
            ]
          },
          "metadata": {},
          "execution_count": 20
        }
      ]
    },
    {
      "cell_type": "code",
      "source": [
        "round(end-start, 2)"
      ],
      "metadata": {
        "colab": {
          "base_uri": "https://localhost:8080/"
        },
        "id": "Zp8zq4Yho08A",
        "outputId": "98be2f2e-462d-42ea-edc9-19a596e81d08"
      },
      "execution_count": null,
      "outputs": [
        {
          "output_type": "execute_result",
          "data": {
            "text/plain": [
              "745.45"
            ]
          },
          "metadata": {},
          "execution_count": 64
        }
      ]
    },
    {
      "cell_type": "code",
      "source": [
        "exact = question.limit(4000).toPandas()"
      ],
      "metadata": {
        "id": "iDDofwl803wF"
      },
      "execution_count": null,
      "outputs": []
    },
    {
      "cell_type": "code",
      "source": [
        "start = time.time()\n",
        "df = pd.DataFrame({\"text\":list(exact['No_Duplicates'])})\n",
        "df['text'] = df['text'].apply(lambda x: ' '.join([word for word in x]))\n",
        "df['text'] = df['text'].apply(lambda x: str(x))\n",
        "start = time.time()\n",
        "vectorizer = CountVectorizer(max_features = 1024)\n",
        "X = vectorizer.fit_transform(list(df['text']))\n",
        "tf_array = pd.DataFrame(X.T.toarray())\n",
        "feature = []\n",
        "for i in range(4000):\n",
        "  feature.append(list(tf_array[i]))\n",
        "compare = pd.DataFrame({\"id\": exact['Id']})\n",
        "compare2 = pd.DataFrame({\"id\": exact['Id'],'feature': feature})\n",
        "match = pysqldf(q)\n",
        "M = pd.merge(match, compare2, left_on='idA', right_on='id')\n",
        "M = pd.merge(M, compare2, left_on='idB', right_on='id')\n",
        "M = M.drop(['id_x', 'id_y'], axis = 1)\n",
        "jac_d = []\n",
        "for i in range(len(M)):\n",
        "  d = jaccard_distance(M['feature_x'][i], M['feature_y'][i])\n",
        "  jac_d.append(d)\n",
        "\n",
        "M['distance'] = jac_d\n",
        "\n",
        "end = time.time()"
      ],
      "metadata": {
        "colab": {
          "base_uri": "https://localhost:8080/"
        },
        "id": "eeJGNUMI01ak",
        "outputId": "2c1431d0-9f8f-435f-e2bc-8b28c9a4e2af"
      },
      "execution_count": null,
      "outputs": [
        {
          "output_type": "stream",
          "name": "stderr",
          "text": [
            "/usr/local/lib/python3.7/dist-packages/ipykernel_launcher.py:4: RuntimeWarning: invalid value encountered in true_divide\n",
            "  after removing the cwd from sys.path.\n"
          ]
        }
      ]
    },
    {
      "cell_type": "code",
      "source": [
        "round(end-start, 2)"
      ],
      "metadata": {
        "colab": {
          "base_uri": "https://localhost:8080/"
        },
        "id": "RssKVyM91Bpc",
        "outputId": "4f5bec2f-a081-4064-ad70-cf37959d9565"
      },
      "execution_count": null,
      "outputs": [
        {
          "output_type": "execute_result",
          "data": {
            "text/plain": [
              "2991.04"
            ]
          },
          "metadata": {},
          "execution_count": 70
        }
      ]
    },
    {
      "cell_type": "code",
      "source": [
        "len(M)"
      ],
      "metadata": {
        "colab": {
          "base_uri": "https://localhost:8080/"
        },
        "id": "3sFxUTuYAhmL",
        "outputId": "0263d97c-64c1-4beb-8c27-88f6a898a5e5"
      },
      "execution_count": null,
      "outputs": [
        {
          "output_type": "execute_result",
          "data": {
            "text/plain": [
              "7998000"
            ]
          },
          "metadata": {},
          "execution_count": 71
        }
      ]
    },
    {
      "cell_type": "code",
      "source": [
        "computation_time2 = [745.45, 2991.04] + 20* [0]\n",
        "summary['exhaustive'] = computation_time2"
      ],
      "metadata": {
        "id": "TYPXMTDHEQt3"
      },
      "execution_count": null,
      "outputs": []
    },
    {
      "cell_type": "code",
      "source": [
        "summary = summary.replace(0, np.nan)"
      ],
      "metadata": {
        "id": "UsE4-QVxFiZM"
      },
      "execution_count": null,
      "outputs": []
    },
    {
      "cell_type": "markdown",
      "source": [
        "# 6. Performance Comparison"
      ],
      "metadata": {
        "id": "4b-Kuyf-4iQg"
      }
    },
    {
      "cell_type": "code",
      "source": [
        "import matplotlib.pyplot as plt\n",
        "%matplotlib inline\n",
        "\n",
        "x = summary['Sample Size']\n",
        "y = summary['Computation Time']\n",
        "plt.plot(x, y, label=\"LSH algorithm\")\n",
        "plt.scatter(x, y)\n",
        "z = np.polyfit(x, y, 1)\n",
        "p = np.poly1d(z)\n",
        "# plt.plot(x,p(x),\"g--\", label=\"linear trend\")\n",
        "plt.scatter(x, summary['exhaustive'])\n",
        "plt.plot(x, summary['exhaustive'], label = 'Exhaustive', color=\"red\")\n",
        "\n",
        "plt.xlabel(\"Data Size\")\n",
        "plt.ylabel(\"Computation Time (sec)\")\n",
        "\n",
        "\n",
        "leg = plt.legend()\n",
        "\n",
        "# save the plot\n",
        "plt.savefig('result1.eps')\n",
        "\n",
        "plt.show()"
      ],
      "metadata": {
        "colab": {
          "base_uri": "https://localhost:8080/",
          "height": 314
        },
        "id": "PaBsPHbr5jW3",
        "outputId": "9a2424f5-0d6a-4511-96b2-bc284e052d61"
      },
      "execution_count": null,
      "outputs": [
        {
          "output_type": "stream",
          "name": "stderr",
          "text": [
            "The PostScript backend does not support transparency; partially transparent artists will be rendered opaque.\n",
            "The PostScript backend does not support transparency; partially transparent artists will be rendered opaque.\n"
          ]
        },
        {
          "output_type": "display_data",
          "data": {
            "image/png": "[encoded data removed]",
            "text/plain": [
              "<Figure size 432x288 with 1 Axes>"
            ]
          },
          "metadata": {
            "needs_background": "light"
          }
        }
      ]
    },
    {
      "cell_type": "code",
      "source": [
        "x = summary['Sample Size']\n",
        "y = summary['Computation Time']\n",
        "plt.plot(x, y, label=\"LSH algorithm\")\n",
        "plt.scatter(x, y)\n",
        "z = np.polyfit(x, y, 1)\n",
        "p = np.poly1d(z)\n",
        "plt.plot(x,p(x),\"g--\", label=\"linear trend\")\n",
        "\n",
        "#plt.plot(x, summary['exhaustive'], label = 'Exhaustive', color=\"red\")\n",
        "\n",
        "plt.xlabel(\"Data Size\")\n",
        "plt.ylabel(\"Computation Time (sec)\")\n",
        "\n",
        "\n",
        "leg = plt.legend()\n",
        "\n",
        "# save the plot\n",
        "plt.savefig('result2.eps')\n",
        "\n",
        "plt.show()"
      ],
      "metadata": {
        "colab": {
          "base_uri": "https://localhost:8080/",
          "height": 314
        },
        "id": "F9tOxLImGkdb",
        "outputId": "4d4533ec-1c51-4344-e067-5b56b26dd4c3"
      },
      "execution_count": null,
      "outputs": [
        {
          "output_type": "stream",
          "name": "stderr",
          "text": [
            "The PostScript backend does not support transparency; partially transparent artists will be rendered opaque.\n",
            "The PostScript backend does not support transparency; partially transparent artists will be rendered opaque.\n"
          ]
        },
        {
          "output_type": "display_data",
          "data": {
            "image/png": "[encoded data removed]",
            "text/plain": [
              "<Figure size 432x288 with 1 Axes>"
            ]
          },
          "metadata": {
            "needs_background": "light"
          }
        }
      ]
    },
    {
      "cell_type": "markdown",
      "source": [
        "# 7. Explore similar pairs found by LSH"
      ],
      "metadata": {
        "id": "Rq2l9NUTgLC3"
      }
    },
    {
      "cell_type": "code",
      "source": [
        "1041520 & 1042370"
      ],
      "metadata": {
        "id": "_odcnWCqrTFH"
      },
      "execution_count": null,
      "outputs": []
    },
    {
      "cell_type": "code",
      "source": [
        "df_nd.where((col(\"id\") == 446500) | (col(\"id\") == 446600)).show(truncate=False)"
      ],
      "metadata": {
        "colab": {
          "base_uri": "https://localhost:8080/"
        },
        "id": "bO7svj0ogQa5",
        "outputId": "fe23ffe3-0e41-492b-befc-792d6a94b745"
      },
      "execution_count": null,
      "outputs": [
        {
          "output_type": "stream",
          "name": "stdout",
          "text": [
            "+------+----------------------------------------------------------------------------------------------------------------------------------------------------------------------------------------------------------------------------------------------------------------------------------------------------------------------------------------------------------------------------------------------------------------------------------------------------------------------------------------------------------------------------------------------------------------------------------------------------------------------------------------------------------------------------------------------------------------------------------------------------------------------------------------------------------------------------------------------------------------------------------------------------------------------------------------------------------------------------------------------------------------------------------------------------------------------------------------------------------------------------------------+-----------------------------------------------------------------------------------------------------------------------------------------------------------------------------------------------------------------------------------------------------------------------------------------------------------------------------------------------------------------------------------------------------------------------------------------------------------------------------------------------------------------------------------------------------------------------------------------------------------------------------------------------------------------------------------------------------------------------------------------------------------------------------------------------------------------------------------------------------------------------------------------------------------------------------------------------------------------------------------------------------------------------------------------------------------------------------------------------------------------------------------------------------------------------------------------------------------------------------------------------------------------------------------------------------------------------------------------------------------------------------------------------------------------------------------------------------------------------------+---------------------------------------------------------------------------------------------------------------------------------------------------------------------------------------------------------------------------------------------------------------------------------------------------------------------------------------------------------------------------------------------------------------------------------------------------------------------------------------------------------------------------------------------------------------------------------------------------------------------------------------------------------------------------------------------------------------------------------------------------------------------------------------------------------------------------------------------------------------------------------------------------------------------------------------------------------------------------------------------------------------------------------------------------------------------------------------------------------------------------------------------------------------------------------------------------------------------------------+-----------------------------------------------------------------------------------------------------------------------------------------------------------------------------------------------------------------------------------------------------------------------------------------------------------------------------------------------------------------------------------------------------------------------------+\n",
            "|Id    |Body                                                                                                                                                                                                                                                                                                                                                                                                                                                                                                                                                                                                                                                                                                                                                                                                                                                                                                                                                                                                                                                                                                                                    |Tokens                                                                                                                                                                                                                                                                                                                                                                                                                                                                                                                                                                                                                                                                                                                                                                                                                                                                                                                                                                                                                                                                                                                                                                                                                                                                                                                                                                                                                                                                       |No_Stopwords                                                                                                                                                                                                                                                                                                                                                                                                                                                                                                                                                                                                                                                                                                                                                                                                                                                                                                                                                                                                                                                                                                                                                                                                                     |No_Duplicates                                                                                                                                                                                                                                                                                                                                                                                                                |\n",
            "+------+----------------------------------------------------------------------------------------------------------------------------------------------------------------------------------------------------------------------------------------------------------------------------------------------------------------------------------------------------------------------------------------------------------------------------------------------------------------------------------------------------------------------------------------------------------------------------------------------------------------------------------------------------------------------------------------------------------------------------------------------------------------------------------------------------------------------------------------------------------------------------------------------------------------------------------------------------------------------------------------------------------------------------------------------------------------------------------------------------------------------------------------+-----------------------------------------------------------------------------------------------------------------------------------------------------------------------------------------------------------------------------------------------------------------------------------------------------------------------------------------------------------------------------------------------------------------------------------------------------------------------------------------------------------------------------------------------------------------------------------------------------------------------------------------------------------------------------------------------------------------------------------------------------------------------------------------------------------------------------------------------------------------------------------------------------------------------------------------------------------------------------------------------------------------------------------------------------------------------------------------------------------------------------------------------------------------------------------------------------------------------------------------------------------------------------------------------------------------------------------------------------------------------------------------------------------------------------------------------------------------------------+---------------------------------------------------------------------------------------------------------------------------------------------------------------------------------------------------------------------------------------------------------------------------------------------------------------------------------------------------------------------------------------------------------------------------------------------------------------------------------------------------------------------------------------------------------------------------------------------------------------------------------------------------------------------------------------------------------------------------------------------------------------------------------------------------------------------------------------------------------------------------------------------------------------------------------------------------------------------------------------------------------------------------------------------------------------------------------------------------------------------------------------------------------------------------------------------------------------------------------+-----------------------------------------------------------------------------------------------------------------------------------------------------------------------------------------------------------------------------------------------------------------------------------------------------------------------------------------------------------------------------------------------------------------------------+\n",
            "|446500|I have two DataGridViewComboBoxColumn that I add at run time  I need the items of the first  DataGridViewComboBoxColumn to stay the same in all the rows of the GridView but I want the items of the second DataGridViewComboBoxColumn to be different from row to another depending on the selected item of the first DataGridViewComboBoxColumn If we say the first DataGridViewComboBoxColumn represents the locations and the second DataGridViewComboBoxColumn represents the sublocations  So  I want the second DataGridViewComboBoxColumn items to be the sublocations of the selected location from the first DataGridViewComboBoxColumn Like this if Canada is selectedCountry comboBoxItems         State Province ComboBox Items USA                           QuebecCANADA selected               OntarioENGLAND                       Manitoba                              AlbertaThen if you select USACountry comboBoxItems         State Province ComboBox Items USA  Selected                 CaliforniaCANADA                        New YorkENGLAND                       Montana                              Ohio|[i, have, two, datagridviewcomboboxcolumn, that, i, add, at, run, time, , i, need, the, items, of, the, first, , datagridviewcomboboxcolumn, to, stay, the, same, in, all, the, rows, of, the, gridview, but, i, want, the, items, of, the, second, datagridviewcomboboxcolumn, to, be, different, from, row, to, another, depending, on, the, selected, item, of, the, first, datagridviewcomboboxcolumn, if, we, say, the, first, datagridviewcomboboxcolumn, represents, the, locations, and, the, second, datagridviewcomboboxcolumn, represents, the, sublocations, , so, , i, want, the, second, datagridviewcomboboxcolumn, items, to, be, the, sublocations, of, the, selected, location, from, the, first, datagridviewcomboboxcolumn, like, this, if, canada, is, selectedcountry, comboboxitems, , , , , , , , , state, province, combobox, items, usa, , , , , , , , , , , , , , , , , , , , , , , , , , , quebeccanada, selected, , , , , , , , , , , , , , , ontarioengland, , , , , , , , , , , , , , , , , , , , , , , manitoba, , , , , , , , , , , , , , , , , , , , , , , , , , , , , , albertathen, if, you, select, usacountry, comboboxitems, , , , , , , , , state, province, combobox, items, usa, , selected, , , , , , , , , , , , , , , , , californiacanada, , , , , , , , , , , , , , , , , , , , , , , , new, yorkengland, , , , , , , , , , , , , , , , , , , , , , , montana, , , , , , , , , , , , , , , , , , , , , , , , , , , , , , ohio]|[two, datagridviewcomboboxcolumn, add, run, time, , need, items, first, , datagridviewcomboboxcolumn, stay, rows, gridview, want, items, second, datagridviewcomboboxcolumn, different, row, another, depending, selected, item, first, datagridviewcomboboxcolumn, say, first, datagridviewcomboboxcolumn, represents, locations, second, datagridviewcomboboxcolumn, represents, sublocations, , , want, second, datagridviewcomboboxcolumn, items, sublocations, selected, location, first, datagridviewcomboboxcolumn, like, canada, selectedcountry, comboboxitems, , , , , , , , , state, province, combobox, items, usa, , , , , , , , , , , , , , , , , , , , , , , , , , , quebeccanada, selected, , , , , , , , , , , , , , , ontarioengland, , , , , , , , , , , , , , , , , , , , , , , manitoba, , , , , , , , , , , , , , , , , , , , , , , , , , , , , , albertathen, select, usacountry, comboboxitems, , , , , , , , , state, province, combobox, items, usa, , selected, , , , , , , , , , , , , , , , , californiacanada, , , , , , , , , , , , , , , , , , , , , , , , new, yorkengland, , , , , , , , , , , , , , , , , , , , , , , montana, , , , , , , , , , , , , , , , , , , , , , , , , , , , , , ohio]|[two, datagridviewcomboboxcolumn, add, run, time, , need, items, first, stay, rows, gridview, want, second, different, row, another, depending, selected, item, say, represents, locations, sublocations, location, like, canada, selectedcountry, comboboxitems, state, province, combobox, usa, quebeccanada, ontarioengland, manitoba, albertathen, select, usacountry, californiacanada, new, yorkengland, montana, ohio]|\n",
            "|446600|i have two DataGridViewComboBoxColumn that i add at run time i need the items of the first DataGridViewComboBoxColumn to stay the same in all the rows of the gridview but i want the items of the second DataGridViewComboBoxColumn to be different from row to the other depending on the selected item of the first DataGridViewComboBoxColumnif we say the first DataGridViewComboBoxColumn represents the locations and the second DataGridViewComboBoxColumn to represent the sublocations  so i want the second DataGridViewComboBoxColumn items to be the sublocations of the selected location from the first DataGridViewComboBoxColumn                                                                                                                                                                                                                                                                                                                                                                                                                                                                                       |[i, have, two, datagridviewcomboboxcolumn, that, i, add, at, run, time, i, need, the, items, of, the, first, datagridviewcomboboxcolumn, to, stay, the, same, in, all, the, rows, of, the, gridview, but, i, want, the, items, of, the, second, datagridviewcomboboxcolumn, to, be, different, from, row, to, the, other, depending, on, the, selected, item, of, the, first, datagridviewcomboboxcolumnif, we, say, the, first, datagridviewcomboboxcolumn, represents, the, locations, and, the, second, datagridviewcomboboxcolumn, to, represent, the, sublocations, , so, i, want, the, second, datagridviewcomboboxcolumn, items, to, be, the, sublocations, of, the, selected, location, from, the, first, datagridviewcomboboxcolumn]                                                                                                                                                                                                                                                                                                                                                                                                                                                                                                                                                                                                                                                                                                                                |[two, datagridviewcomboboxcolumn, add, run, time, need, items, first, datagridviewcomboboxcolumn, stay, rows, gridview, want, items, second, datagridviewcomboboxcolumn, different, row, depending, selected, item, first, datagridviewcomboboxcolumnif, say, first, datagridviewcomboboxcolumn, represents, locations, second, datagridviewcomboboxcolumn, represent, sublocations, , want, second, datagridviewcomboboxcolumn, items, sublocations, selected, location, first, datagridviewcomboboxcolumn]                                                                                                                                                                                                                                                                                                                                                                                                                                                                                                                                                                                                                                                                                                                     |[two, datagridviewcomboboxcolumn, add, run, time, need, items, first, stay, rows, gridview, want, second, different, row, depending, selected, item, datagridviewcomboboxcolumnif, say, represents, locations, represent, sublocations, , location]                                                                                                                                                                          |\n",
            "+------+----------------------------------------------------------------------------------------------------------------------------------------------------------------------------------------------------------------------------------------------------------------------------------------------------------------------------------------------------------------------------------------------------------------------------------------------------------------------------------------------------------------------------------------------------------------------------------------------------------------------------------------------------------------------------------------------------------------------------------------------------------------------------------------------------------------------------------------------------------------------------------------------------------------------------------------------------------------------------------------------------------------------------------------------------------------------------------------------------------------------------------------+-----------------------------------------------------------------------------------------------------------------------------------------------------------------------------------------------------------------------------------------------------------------------------------------------------------------------------------------------------------------------------------------------------------------------------------------------------------------------------------------------------------------------------------------------------------------------------------------------------------------------------------------------------------------------------------------------------------------------------------------------------------------------------------------------------------------------------------------------------------------------------------------------------------------------------------------------------------------------------------------------------------------------------------------------------------------------------------------------------------------------------------------------------------------------------------------------------------------------------------------------------------------------------------------------------------------------------------------------------------------------------------------------------------------------------------------------------------------------------+---------------------------------------------------------------------------------------------------------------------------------------------------------------------------------------------------------------------------------------------------------------------------------------------------------------------------------------------------------------------------------------------------------------------------------------------------------------------------------------------------------------------------------------------------------------------------------------------------------------------------------------------------------------------------------------------------------------------------------------------------------------------------------------------------------------------------------------------------------------------------------------------------------------------------------------------------------------------------------------------------------------------------------------------------------------------------------------------------------------------------------------------------------------------------------------------------------------------------------+-----------------------------------------------------------------------------------------------------------------------------------------------------------------------------------------------------------------------------------------------------------------------------------------------------------------------------------------------------------------------------------------------------------------------------+\n",
            "\n"
          ]
        }
      ]
    },
    {
      "cell_type": "code",
      "source": [
        "df_nd.where((col(\"id\") == 950210) | (col(\"id\") == 950960)).show(truncate=False)"
      ],
      "metadata": {
        "colab": {
          "base_uri": "https://localhost:8080/"
        },
        "id": "PIVC_in_rUT-",
        "outputId": "c0dfdf6a-6185-44e3-d932-bdd05fa0dfb0"
      },
      "execution_count": null,
      "outputs": [
        {
          "output_type": "stream",
          "name": "stdout",
          "text": [
            "+------+---------------------------------------------------------------------------------------------------------------------------------------------------------------------------------------------------------------------------------------------------------------------------------------------------------------------------------------------------------------------------------------------------------------------------------------------------------------------------------------------------------------------------------------------------------------------------------------------------------------------------------------------------------------------------------------------------------------------------------------------------------------------------------------------------------------------------------------------------------------------------------------------------------------------------------------------------------------------------------------------------------------------------------------------------------------------------------------------------------------------------------------------------------------------------------------------------------------------------------------------------------------------------------------------------------------------------------------------------------------------------------+--------------------------------------------------------------------------------------------------------------------------------------------------------------------------------------------------------------------------------------------------------------------------------------------------------------------------------------------------------------------------------------------------------------------------------------------------------------------------------------------------------------------------------------------------------------------------------------------------------------------------------------------------------------------------------------------------------------------------------------------------------------------------------------------------------------------------------------------------------------------------------------------------------------------------------------------------------------------------------------------------------------------------------------------------------------------------------------------------------------------------------------------------------------------------------------------------------------------------------------------------------------------------------------------------------------------------------------------------------------------------------------------------------------------------------------------------------------------------------------------------------------------------------------------------------------------------------------------------------------------------------------------------------------------------------------------------------------------------------------------------------------------------------------------------------------------------------------------------------------------------------------------------------------------------------------------------------------------------------------------------------------------+----------------------------------------------------------------------------------------------------------------------------------------------------------------------------------------------------------------------------------------------------------------------------------------------------------------------------------------------------------------------------------------------------------------------------------------------------------------------------------------------------------------------------------------------------------------------------------------------------------------------------------------------------------------------------------------------------------------------------------------------------------------------------------------------------------------------------------------------------------------------------------------------------------------------------------------------------------------------------------------------------------------------------------------------------------------------------------------------------------------------------------------------------------------------------------------------------------------------------------------------------------------------------------------------------------------------------------------------------------------------------------------------------------------------------------------------------------------------------------------------------------------------------------------------------------------------------------------------------------------------------------------------------------------------------------------------------------------------------------------------------------------------------------------------------------------------------------------------------------------------------------------------------------------------+--------------------------------------------------------------------------------------------------------------------------------------------------------------------------------------------------------------------------------------------------------------------------------------------------------------------------------------------------------------------------------------------------------------------------------------+\n",
            "|Id    |Body                                                                                                                                                                                                                                                                                                                                                                                                                                                                                                                                                                                                                                                                                                                                                                                                                                                                                                                                                                                                                                                                                                                                                                                                                                                                                                                                                                             |Tokens                                                                                                                                                                                                                                                                                                                                                                                                                                                                                                                                                                                                                                                                                                                                                                                                                                                                                                                                                                                                                                                                                                                                                                                                                                                                                                                                                                                                                                                                                                                                                                                                                                                                                                                                                                                                                                                                                                                                                                                                              |No_Stopwords                                                                                                                                                                                                                                                                                                                                                                                                                                                                                                                                                                                                                                                                                                                                                                                                                                                                                                                                                                                                                                                                                                                                                                                                                                                                                                                                                                                                                                                                                                                                                                                                                                                                                                                                                                                                                                                                                                          |No_Duplicates                                                                                                                                                                                                                                                                                                                                                                                                                         |\n",
            "+------+---------------------------------------------------------------------------------------------------------------------------------------------------------------------------------------------------------------------------------------------------------------------------------------------------------------------------------------------------------------------------------------------------------------------------------------------------------------------------------------------------------------------------------------------------------------------------------------------------------------------------------------------------------------------------------------------------------------------------------------------------------------------------------------------------------------------------------------------------------------------------------------------------------------------------------------------------------------------------------------------------------------------------------------------------------------------------------------------------------------------------------------------------------------------------------------------------------------------------------------------------------------------------------------------------------------------------------------------------------------------------------+--------------------------------------------------------------------------------------------------------------------------------------------------------------------------------------------------------------------------------------------------------------------------------------------------------------------------------------------------------------------------------------------------------------------------------------------------------------------------------------------------------------------------------------------------------------------------------------------------------------------------------------------------------------------------------------------------------------------------------------------------------------------------------------------------------------------------------------------------------------------------------------------------------------------------------------------------------------------------------------------------------------------------------------------------------------------------------------------------------------------------------------------------------------------------------------------------------------------------------------------------------------------------------------------------------------------------------------------------------------------------------------------------------------------------------------------------------------------------------------------------------------------------------------------------------------------------------------------------------------------------------------------------------------------------------------------------------------------------------------------------------------------------------------------------------------------------------------------------------------------------------------------------------------------------------------------------------------------------------------------------------------------+----------------------------------------------------------------------------------------------------------------------------------------------------------------------------------------------------------------------------------------------------------------------------------------------------------------------------------------------------------------------------------------------------------------------------------------------------------------------------------------------------------------------------------------------------------------------------------------------------------------------------------------------------------------------------------------------------------------------------------------------------------------------------------------------------------------------------------------------------------------------------------------------------------------------------------------------------------------------------------------------------------------------------------------------------------------------------------------------------------------------------------------------------------------------------------------------------------------------------------------------------------------------------------------------------------------------------------------------------------------------------------------------------------------------------------------------------------------------------------------------------------------------------------------------------------------------------------------------------------------------------------------------------------------------------------------------------------------------------------------------------------------------------------------------------------------------------------------------------------------------------------------------------------------------+--------------------------------------------------------------------------------------------------------------------------------------------------------------------------------------------------------------------------------------------------------------------------------------------------------------------------------------------------------------------------------------------------------------------------------------+\n",
            "|950210|The following code works but only as long as each element of the XML has an  Id  attribute However  if an element does not have an id attribute  LINQ throws an NullReferenceException  How do I specify that if there is no Id attribute  just assign a null or blank using System using System Linq using System Xml Linq namespace TestXmlElement         class Program             static void Main string   args                      XElement content   new XElement  content                  new XElement  item   new XAttribute  id                         new XElement  item   new XAttribute  idCode    firstForm                                 var contentItems   from contentItem in content Descendants  item                                 select new ContentItem                                                                   Id   contentItem Attribute  id   Value                                             foreach  var contentItem in contentItems                              Console WriteLine contentItem Id                           Console ReadLine                     class ContentItem             public string Id   get  set           public string IdCode   get  set                                                                                                                                                             |[the, following, code, works, but, only, as, long, as, each, element, of, the, xml, has, an, , id, , attribute, however, , if, an, element, does, not, have, an, id, attribute, , linq, throws, an, nullreferenceexception, , how, do, i, specify, that, if, there, is, no, id, attribute, , just, assign, a, null, or, blank, using, system, using, system, linq, using, system, xml, linq, namespace, testxmlelement, , , , , , , , , class, program, , , , , , , , , , , , , static, void, main, string, , , args, , , , , , , , , , , , , , , , , , , , , , xelement, content, , , new, xelement, , content, , , , , , , , , , , , , , , , , , new, xelement, , item, , , new, xattribute, , id, , , , , , , , , , , , , , , , , , , , , , , , , new, xelement, , item, , , new, xattribute, , idcode, , , , firstform, , , , , , , , , , , , , , , , , , , , , , , , , , , , , , , , , var, contentitems, , , from, contentitem, in, content, descendants, , item, , , , , , , , , , , , , , , , , , , , , , , , , , , , , , , , , select, new, contentitem, , , , , , , , , , , , , , , , , , , , , , , , , , , , , , , , , , , , , , , , , , , , , , , , , , , , , , , , , , , , , , , , , , , id, , , contentitem, attribute, , id, , , value, , , , , , , , , , , , , , , , , , , , , , , , , , , , , , , , , , , , , , , , , , , , , foreach, , var, contentitem, in, contentitems, , , , , , , , , , , , , , , , , , , , , , , , , , , , , , console, writeline, contentitem, id, , , , , , , , , , , , , , , , , , , , , , , , , , , console, readline, , , , , , , , , , , , , , , , , , , , , class, contentitem, , , , , , , , , , , , , public, string, id, , , get, , set, , , , , , , , , , , public, string, idcode, , , get, , set]                                                                                                                                                                                                                                                             |[following, code, works, long, element, xml, , id, , attribute, however, , element, id, attribute, , linq, throws, nullreferenceexception, , specify, id, attribute, , assign, null, blank, using, system, using, system, linq, using, system, xml, linq, namespace, testxmlelement, , , , , , , , , class, program, , , , , , , , , , , , , static, void, main, string, , , args, , , , , , , , , , , , , , , , , , , , , , xelement, content, , , new, xelement, , content, , , , , , , , , , , , , , , , , , new, xelement, , item, , , new, xattribute, , id, , , , , , , , , , , , , , , , , , , , , , , , , new, xelement, , item, , , new, xattribute, , idcode, , , , firstform, , , , , , , , , , , , , , , , , , , , , , , , , , , , , , , , , var, contentitems, , , contentitem, content, descendants, , item, , , , , , , , , , , , , , , , , , , , , , , , , , , , , , , , , select, new, contentitem, , , , , , , , , , , , , , , , , , , , , , , , , , , , , , , , , , , , , , , , , , , , , , , , , , , , , , , , , , , , , , , , , , , id, , , contentitem, attribute, , id, , , value, , , , , , , , , , , , , , , , , , , , , , , , , , , , , , , , , , , , , , , , , , , , , foreach, , var, contentitem, contentitems, , , , , , , , , , , , , , , , , , , , , , , , , , , , , , console, writeline, contentitem, id, , , , , , , , , , , , , , , , , , , , , , , , , , , console, readline, , , , , , , , , , , , , , , , , , , , , class, contentitem, , , , , , , , , , , , , public, string, id, , , get, , set, , , , , , , , , , , public, string, idcode, , , get, , set]                                                                                                                                                                                                                                                                                                                |[following, code, works, long, element, xml, , id, attribute, however, linq, throws, nullreferenceexception, specify, assign, null, blank, using, system, namespace, testxmlelement, class, program, static, void, main, string, args, xelement, content, new, item, xattribute, idcode, firstform, var, contentitems, contentitem, descendants, select, value, foreach, console, writeline, readline, public, get, set]              |\n",
            "|950960|With LINQ I get four elements out of some XML  each element can have a different name  Book  Magazine  Article  How do I get the name of the element I m currently processing  e g  something like ElementType   below using System using System Linq using System Xml Linq namespace TestXmlElement         class Program             static void Main string   args                      XElement content   new XElement  content                  new XElement  book   new XAttribute  id                         new XElement  article   new XAttribute  id                         new XElement  book   new XAttribute  id                         new XElement  magazine   new XAttribute  id                                      var contentItems   from contentItem in content Descendants                                 select new ContentItem                                                                   Id   contentItem Attribute  id   Value                                   Type   contentItem ElementType     PSEUDO CODE                                             foreach  var contentItem in contentItems                              Console WriteLine contentItem Id                           Console ReadLine                     class ContentItem             public string Id   get  set           public string Type   get  set         |[with, linq, i, get, four, elements, out, of, some, xml, , each, element, can, have, a, different, name, , book, , magazine, , article, , how, do, i, get, the, name, of, the, element, i, m, currently, processing, , e, g, , something, like, elementtype, , , below, using, system, using, system, linq, using, system, xml, linq, namespace, testxmlelement, , , , , , , , , class, program, , , , , , , , , , , , , static, void, main, string, , , args, , , , , , , , , , , , , , , , , , , , , , xelement, content, , , new, xelement, , content, , , , , , , , , , , , , , , , , , new, xelement, , book, , , new, xattribute, , id, , , , , , , , , , , , , , , , , , , , , , , , , new, xelement, , article, , , new, xattribute, , id, , , , , , , , , , , , , , , , , , , , , , , , , new, xelement, , book, , , new, xattribute, , id, , , , , , , , , , , , , , , , , , , , , , , , , new, xelement, , magazine, , , new, xattribute, , id, , , , , , , , , , , , , , , , , , , , , , , , , , , , , , , , , , , , , , var, contentitems, , , from, contentitem, in, content, descendants, , , , , , , , , , , , , , , , , , , , , , , , , , , , , , , , , select, new, contentitem, , , , , , , , , , , , , , , , , , , , , , , , , , , , , , , , , , , , , , , , , , , , , , , , , , , , , , , , , , , , , , , , , , , id, , , contentitem, attribute, , id, , , value, , , , , , , , , , , , , , , , , , , , , , , , , , , , , , , , , , , type, , , contentitem, elementtype, , , , , pseudo, code, , , , , , , , , , , , , , , , , , , , , , , , , , , , , , , , , , , , , , , , , , , , , foreach, , var, contentitem, in, contentitems, , , , , , , , , , , , , , , , , , , , , , , , , , , , , , console, writeline, contentitem, id, , , , , , , , , , , , , , , , , , , , , , , , , , , console, readline, , , , , , , , , , , , , , , , , , , , , class, contentitem, , , , , , , , , , , , , public, string, id, , , get, , set, , , , , , , , , , , public, string, type, , , get, , set]|[linq, get, four, elements, xml, , element, different, name, , book, , magazine, , article, , get, name, element, m, currently, processing, , e, g, , something, like, elementtype, , , using, system, using, system, linq, using, system, xml, linq, namespace, testxmlelement, , , , , , , , , class, program, , , , , , , , , , , , , static, void, main, string, , , args, , , , , , , , , , , , , , , , , , , , , , xelement, content, , , new, xelement, , content, , , , , , , , , , , , , , , , , , new, xelement, , book, , , new, xattribute, , id, , , , , , , , , , , , , , , , , , , , , , , , , new, xelement, , article, , , new, xattribute, , id, , , , , , , , , , , , , , , , , , , , , , , , , new, xelement, , book, , , new, xattribute, , id, , , , , , , , , , , , , , , , , , , , , , , , , new, xelement, , magazine, , , new, xattribute, , id, , , , , , , , , , , , , , , , , , , , , , , , , , , , , , , , , , , , , , var, contentitems, , , contentitem, content, descendants, , , , , , , , , , , , , , , , , , , , , , , , , , , , , , , , , select, new, contentitem, , , , , , , , , , , , , , , , , , , , , , , , , , , , , , , , , , , , , , , , , , , , , , , , , , , , , , , , , , , , , , , , , , , id, , , contentitem, attribute, , id, , , value, , , , , , , , , , , , , , , , , , , , , , , , , , , , , , , , , , , type, , , contentitem, elementtype, , , , , pseudo, code, , , , , , , , , , , , , , , , , , , , , , , , , , , , , , , , , , , , , , , , , , , , , foreach, , var, contentitem, contentitems, , , , , , , , , , , , , , , , , , , , , , , , , , , , , , console, writeline, contentitem, id, , , , , , , , , , , , , , , , , , , , , , , , , , , console, readline, , , , , , , , , , , , , , , , , , , , , class, contentitem, , , , , , , , , , , , , public, string, id, , , get, , set, , , , , , , , , , , public, string, type, , , get, , set]|[linq, get, four, elements, xml, , element, different, name, book, magazine, article, m, currently, processing, e, g, something, like, elementtype, using, system, namespace, testxmlelement, class, program, static, void, main, string, args, xelement, content, new, xattribute, id, var, contentitems, contentitem, descendants, select, attribute, value, type, pseudo, code, foreach, console, writeline, readline, public, set]|\n",
            "+------+---------------------------------------------------------------------------------------------------------------------------------------------------------------------------------------------------------------------------------------------------------------------------------------------------------------------------------------------------------------------------------------------------------------------------------------------------------------------------------------------------------------------------------------------------------------------------------------------------------------------------------------------------------------------------------------------------------------------------------------------------------------------------------------------------------------------------------------------------------------------------------------------------------------------------------------------------------------------------------------------------------------------------------------------------------------------------------------------------------------------------------------------------------------------------------------------------------------------------------------------------------------------------------------------------------------------------------------------------------------------------------+--------------------------------------------------------------------------------------------------------------------------------------------------------------------------------------------------------------------------------------------------------------------------------------------------------------------------------------------------------------------------------------------------------------------------------------------------------------------------------------------------------------------------------------------------------------------------------------------------------------------------------------------------------------------------------------------------------------------------------------------------------------------------------------------------------------------------------------------------------------------------------------------------------------------------------------------------------------------------------------------------------------------------------------------------------------------------------------------------------------------------------------------------------------------------------------------------------------------------------------------------------------------------------------------------------------------------------------------------------------------------------------------------------------------------------------------------------------------------------------------------------------------------------------------------------------------------------------------------------------------------------------------------------------------------------------------------------------------------------------------------------------------------------------------------------------------------------------------------------------------------------------------------------------------------------------------------------------------------------------------------------------------+----------------------------------------------------------------------------------------------------------------------------------------------------------------------------------------------------------------------------------------------------------------------------------------------------------------------------------------------------------------------------------------------------------------------------------------------------------------------------------------------------------------------------------------------------------------------------------------------------------------------------------------------------------------------------------------------------------------------------------------------------------------------------------------------------------------------------------------------------------------------------------------------------------------------------------------------------------------------------------------------------------------------------------------------------------------------------------------------------------------------------------------------------------------------------------------------------------------------------------------------------------------------------------------------------------------------------------------------------------------------------------------------------------------------------------------------------------------------------------------------------------------------------------------------------------------------------------------------------------------------------------------------------------------------------------------------------------------------------------------------------------------------------------------------------------------------------------------------------------------------------------------------------------------------+--------------------------------------------------------------------------------------------------------------------------------------------------------------------------------------------------------------------------------------------------------------------------------------------------------------------------------------------------------------------------------------------------------------------------------------+\n",
            "\n"
          ]
        }
      ]
    },
    {
      "cell_type": "code",
      "source": [
        "df_nd.where((col(\"id\") == 1041520) | (col(\"id\") == 1042370)).show(truncate=False)"
      ],
      "metadata": {
        "colab": {
          "base_uri": "https://localhost:8080/"
        },
        "id": "Hekgb7vurYUB",
        "outputId": "2f8928d5-941e-43b8-8f8c-bed8506787a9"
      },
      "execution_count": null,
      "outputs": [
        {
          "output_type": "stream",
          "name": "stdout",
          "text": [
            "+-------+------------------------------------------------------------------------------------------------------------------------------------------------------------------------------------------------------------------------------------------------------------------------------------------------------------------------------------------------------------------------------------------------------------------------+-------------------------------------------------------------------------------------------------------------------------------------------------------------------------------------------------------------------------------------------------------------------------------------------------------------------------------------------------------------------------------------------------------------------------------------------------------------------------------------------------------------------------------+------------------------------------------------------------------------------------------------------------------------------------------------------------------------------------------------------------------------------------------------------------------------------------------------------------------------------------------------------------------------------------------------------------------------------------------+-------------------------------------------------------------------------------------------------------------------------------------------------------------------------------------------------------------------------------------------------------------------+\n",
            "|Id     |Body                                                                                                                                                                                                                                                                                                                                                                                                                    |Tokens                                                                                                                                                                                                                                                                                                                                                                                                                                                                                                                         |No_Stopwords                                                                                                                                                                                                                                                                                                                                                                                                                              |No_Duplicates                                                                                                                                                                                                                                                      |\n",
            "+-------+------------------------------------------------------------------------------------------------------------------------------------------------------------------------------------------------------------------------------------------------------------------------------------------------------------------------------------------------------------------------------------------------------------------------+-------------------------------------------------------------------------------------------------------------------------------------------------------------------------------------------------------------------------------------------------------------------------------------------------------------------------------------------------------------------------------------------------------------------------------------------------------------------------------------------------------------------------------+------------------------------------------------------------------------------------------------------------------------------------------------------------------------------------------------------------------------------------------------------------------------------------------------------------------------------------------------------------------------------------------------------------------------------------------+-------------------------------------------------------------------------------------------------------------------------------------------------------------------------------------------------------------------------------------------------------------------+\n",
            "|1041520|I have a rewrite rule set up in my  htaccess file RewriteRule  Crocodile Style             products display php folder crocodile style amp page     L NC http   test bradp com drupal Crocodile Style   works OK http   test bradp com drupal Crocodile Style  DOES NOT WORK Apache throws a      The PHP logic defaults to page   without a page specified  so I know the script is fine What can I do ThanksNick      |[i, have, a, rewrite, rule, set, up, in, my, , htaccess, file, rewriterule, , crocodile, style, , , , , , , , , , , , , products, display, php, folder, crocodile, style, amp, page, , , , , l, nc, http, , , test, bradp, com, drupal, crocodile, style, , , works, ok, http, , , test, bradp, com, drupal, crocodile, style, , does, not, work, apache, throws, a, , , , , , the, php, logic, defaults, to, page, , , without, a, page, specified, , so, i, know, the, script, is, fine, what, can, i, do, thanksnick]       |[rewrite, rule, set, , htaccess, file, rewriterule, , crocodile, style, , , , , , , , , , , , , products, display, php, folder, crocodile, style, amp, page, , , , , l, nc, http, , , test, bradp, com, drupal, crocodile, style, , , works, ok, http, , , test, bradp, com, drupal, crocodile, style, , work, apache, throws, , , , , , php, logic, defaults, page, , , without, page, specified, , know, script, fine, thanksnick]      |[rewrite, rule, set, , htaccess, file, rewriterule, crocodile, style, products, display, php, folder, amp, page, l, nc, http, test, bradp, com, drupal, works, ok, work, apache, throws, logic, defaults, without, specified, know, script, fine, thanksnick]      |\n",
            "|1042370|Hey everyone  I m having rewite issues http   test bradp com drupal Crocodile Style   works OK http   test bradp com drupal Crocodile Style  DOES NOT WORK Apache throws a      The PHP logic defaults to page   without a page specified  so I know the script is fine Here s the code RewriteRule  Crocodile Style             products display php folder crocodile style amp page     L NC What can I do Thanks Nick|[hey, everyone, , i, m, having, rewite, issues, http, , , test, bradp, com, drupal, crocodile, style, , , works, ok, http, , , test, bradp, com, drupal, crocodile, style, , does, not, work, apache, throws, a, , , , , , the, php, logic, defaults, to, page, , , without, a, page, specified, , so, i, know, the, script, is, fine, here, s, the, code, rewriterule, , crocodile, style, , , , , , , , , , , , , products, display, php, folder, crocodile, style, amp, page, , , , , l, nc, what, can, i, do, thanks, nick]|[hey, everyone, , m, rewite, issues, http, , , test, bradp, com, drupal, crocodile, style, , , works, ok, http, , , test, bradp, com, drupal, crocodile, style, , work, apache, throws, , , , , , php, logic, defaults, page, , , without, page, specified, , know, script, fine, code, rewriterule, , crocodile, style, , , , , , , , , , , , , products, display, php, folder, crocodile, style, amp, page, , , , , l, nc, thanks, nick]|[hey, everyone, , m, rewite, issues, http, test, bradp, com, drupal, crocodile, style, works, ok, work, apache, throws, php, logic, defaults, page, without, specified, know, script, fine, code, rewriterule, products, display, folder, amp, l, nc, thanks, nick]|\n",
            "+-------+------------------------------------------------------------------------------------------------------------------------------------------------------------------------------------------------------------------------------------------------------------------------------------------------------------------------------------------------------------------------------------------------------------------------+-------------------------------------------------------------------------------------------------------------------------------------------------------------------------------------------------------------------------------------------------------------------------------------------------------------------------------------------------------------------------------------------------------------------------------------------------------------------------------------------------------------------------------+------------------------------------------------------------------------------------------------------------------------------------------------------------------------------------------------------------------------------------------------------------------------------------------------------------------------------------------------------------------------------------------------------------------------------------------+-------------------------------------------------------------------------------------------------------------------------------------------------------------------------------------------------------------------------------------------------------------------+\n",
            "\n"
          ]
        }
      ]
    }
  ]
}